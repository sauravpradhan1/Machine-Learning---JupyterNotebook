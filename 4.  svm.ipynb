{
 "cells": [
  {
   "cell_type": "code",
   "execution_count": 5,
   "metadata": {},
   "outputs": [
    {
     "data": {
      "text/html": [
       "<div>\n",
       "<style>\n",
       "    .dataframe thead tr:only-child th {\n",
       "        text-align: right;\n",
       "    }\n",
       "\n",
       "    .dataframe thead th {\n",
       "        text-align: left;\n",
       "    }\n",
       "\n",
       "    .dataframe tbody tr th {\n",
       "        vertical-align: top;\n",
       "    }\n",
       "</style>\n",
       "<table border=\"1\" class=\"dataframe\">\n",
       "  <thead>\n",
       "    <tr style=\"text-align: right;\">\n",
       "      <th></th>\n",
       "      <th>tweet</th>\n",
       "      <th>clean_tweet</th>\n",
       "      <th>tweet_sentiments</th>\n",
       "      <th>clean_sentiment</th>\n",
       "      <th>sentiment_numeral</th>\n",
       "    </tr>\n",
       "  </thead>\n",
       "  <tbody>\n",
       "    <tr>\n",
       "      <th>0</th>\n",
       "      <td>b'I literally watch all 3 of them as well! Even named my 6 year old Alexa from hearing @narvaezjorge channel so many years now. Before Amazon used it'</td>\n",
       "      <td>b liter watch 3 well even name 6 year old alexa hear narvaezjorg channel mani year amazon use</td>\n",
       "      <td>positive</td>\n",
       "      <td>positive</td>\n",
       "      <td>2</td>\n",
       "    </tr>\n",
       "    <tr>\n",
       "      <th>1</th>\n",
       "      <td>b\"Meet Aisha: Amazon's New Sharia-Compliant Version of Alexa! #NewYearsEve I\\xe2\\x80\\x99m sure some whiny snowflake will complain &amp; Flag me!://youtu.be/r93oq-VRm_w via @YouTube\"</td>\n",
       "      <td>b meet aisha amazon new sharia compliant version alexa newyearsev xe2 x80 x99m sure whini snowflak complain flag youtu r93oq vrm_w via youtub</td>\n",
       "      <td>positive</td>\n",
       "      <td>positive</td>\n",
       "      <td>2</td>\n",
       "    </tr>\n",
       "    <tr>\n",
       "      <th>2</th>\n",
       "      <td>b'Just saw this on Amazon: Fire HD 8 Tablet with Alexa, 8\\' HD Display, 16 G... by Amazon https://amzn.to/2SsfUDe Up to 12 hours of battery life, a vibrant 8\" HD display, a 1.3 GHz quad-core processor, 1.5 GB of RAM, and Dolby Audio. More durable than the latest iPad.'</td>\n",
       "      <td>b saw amazon fire hd 8 tablet alexa 8 hd display 16 g amazon 12 hour batteri life vibrant 8 hd display 1 3 ghz quad core processor 1 5 gb ram dolbi audio durabl latest ipad</td>\n",
       "      <td>positive</td>\n",
       "      <td>positive</td>\n",
       "      <td>2</td>\n",
       "    </tr>\n",
       "  </tbody>\n",
       "</table>\n",
       "</div>"
      ],
      "text/plain": [
       "                                                                                                                                                                                                                                                                           tweet  \\\n",
       "0  b'I literally watch all 3 of them as well! Even named my 6 year old Alexa from hearing @narvaezjorge channel so many years now. Before Amazon used it'                                                                                                                          \n",
       "1  b\"Meet Aisha: Amazon's New Sharia-Compliant Version of Alexa! #NewYearsEve I\\xe2\\x80\\x99m sure some whiny snowflake will complain & Flag me!://youtu.be/r93oq-VRm_w via @YouTube\"                                                                                               \n",
       "2  b'Just saw this on Amazon: Fire HD 8 Tablet with Alexa, 8\\' HD Display, 16 G... by Amazon https://amzn.to/2SsfUDe Up to 12 hours of battery life, a vibrant 8\" HD display, a 1.3 GHz quad-core processor, 1.5 GB of RAM, and Dolby Audio. More durable than the latest iPad.'   \n",
       "\n",
       "                                                                                                                                                                     clean_tweet  \\\n",
       "0   b liter watch 3 well even name 6 year old alexa hear narvaezjorg channel mani year amazon use                                                                                  \n",
       "1   b meet aisha amazon new sharia compliant version alexa newyearsev xe2 x80 x99m sure whini snowflak complain flag youtu r93oq vrm_w via youtub                                  \n",
       "2   b saw amazon fire hd 8 tablet alexa 8 hd display 16 g amazon 12 hour batteri life vibrant 8 hd display 1 3 ghz quad core processor 1 5 gb ram dolbi audio durabl latest ipad   \n",
       "\n",
       "  tweet_sentiments clean_sentiment  sentiment_numeral  \n",
       "0  positive         positive        2                  \n",
       "1  positive         positive        2                  \n",
       "2  positive         positive        2                  "
      ]
     },
     "execution_count": 5,
     "metadata": {},
     "output_type": "execute_result"
    }
   ],
   "source": [
    "import pandas as pd\n",
    "tweets = pd.DataFrame()\n",
    "tweets = pd.read_csv('demo.csv')\n",
    "tweets.head(3)"
   ]
  },
  {
   "cell_type": "code",
   "execution_count": 9,
   "metadata": {
    "collapsed": true
   },
   "outputs": [],
   "source": [
    "import re, nltk\n",
    "from nltk.stem import WordNetLemmatizer\n",
    "from nltk.corpus import stopwords\n",
    "stop_words = set(stopwords.words('english'))\n",
    "wordnet_lemmatizer = WordNetLemmatizer()\n",
    "\n",
    "def normalizer(tweet):\n",
    "    result = re.sub(r\"pic.twitter.com\\S+\", \"\", tweet)\n",
    "    result = re.sub(r\"https:\\S+\",\"\",result )\n",
    "    result = re.sub(r\"http:\\S+\",\"\",result )\n",
    "    only_letters = re.sub(\"[^a-zA-Z]\", \" \",result) \n",
    "    \n",
    "    tokens = nltk.word_tokenize(only_letters)[2:]\n",
    "    lower_case = [l.lower() for l in tokens]\n",
    "    filtered_result = list(filter(lambda l: l not in stop_words, lower_case))\n",
    "    lemmas = [wordnet_lemmatizer.lemmatize(t) for t in filtered_result]\n",
    "    \n",
    "    return lemmas"
   ]
  },
  {
   "cell_type": "code",
   "execution_count": 10,
   "metadata": {},
   "outputs": [
    {
     "data": {
      "text/html": [
       "<div>\n",
       "<style>\n",
       "    .dataframe thead tr:only-child th {\n",
       "        text-align: right;\n",
       "    }\n",
       "\n",
       "    .dataframe thead th {\n",
       "        text-align: left;\n",
       "    }\n",
       "\n",
       "    .dataframe tbody tr th {\n",
       "        vertical-align: top;\n",
       "    }\n",
       "</style>\n",
       "<table border=\"1\" class=\"dataframe\">\n",
       "  <thead>\n",
       "    <tr style=\"text-align: right;\">\n",
       "      <th></th>\n",
       "      <th>clean_tweet</th>\n",
       "      <th>normalized_tweetz</th>\n",
       "    </tr>\n",
       "  </thead>\n",
       "  <tbody>\n",
       "    <tr>\n",
       "      <th>0</th>\n",
       "      <td>b liter watch 3 well even name 6 year old alexa hear narvaezjorg channel mani year amazon use</td>\n",
       "      <td>[watch, well, even, name, year, old, alexa, hear, narvaezjorg, channel, mani, year, amazon, use]</td>\n",
       "    </tr>\n",
       "    <tr>\n",
       "      <th>1</th>\n",
       "      <td>b meet aisha amazon new sharia compliant version alexa newyearsev xe2 x80 x99m sure whini snowflak complain flag youtu r93oq vrm_w via youtub</td>\n",
       "      <td>[aisha, amazon, new, sharia, compliant, version, alexa, newyearsev, xe, x, x, sure, whini, snowflak, complain, flag, youtu, r, oq, vrm, w, via, youtub]</td>\n",
       "    </tr>\n",
       "    <tr>\n",
       "      <th>2</th>\n",
       "      <td>b saw amazon fire hd 8 tablet alexa 8 hd display 16 g amazon 12 hour batteri life vibrant 8 hd display 1 3 ghz quad core processor 1 5 gb ram dolbi audio durabl latest ipad</td>\n",
       "      <td>[amazon, fire, hd, tablet, alexa, hd, display, g, amazon, hour, batteri, life, vibrant, hd, display, ghz, quad, core, processor, gb, ram, dolbi, audio, durabl, latest, ipad]</td>\n",
       "    </tr>\n",
       "    <tr>\n",
       "      <th>3</th>\n",
       "      <td>b amazon alexa refus tell tv channel dick clark xe2 x80 x99 rockin new year eve</td>\n",
       "      <td>[alexa, refus, tell, tv, channel, dick, clark, xe, x, x, rockin, new, year, eve]</td>\n",
       "    </tr>\n",
       "    <tr>\n",
       "      <th>4</th>\n",
       "      <td>b fire hd 10 tablet alexa hand free 10 1 1080p full hd display 32 gb marin blue special offer amazon xe2 x80 xa6</td>\n",
       "      <td>[hd, tablet, alexa, hand, free, p, full, hd, display, gb, marin, blue, special, offer, amazon, xe, x, xa]</td>\n",
       "    </tr>\n",
       "  </tbody>\n",
       "</table>\n",
       "</div>"
      ],
      "text/plain": [
       "                                                                                                                                                                     clean_tweet  \\\n",
       "0   b liter watch 3 well even name 6 year old alexa hear narvaezjorg channel mani year amazon use                                                                                  \n",
       "1   b meet aisha amazon new sharia compliant version alexa newyearsev xe2 x80 x99m sure whini snowflak complain flag youtu r93oq vrm_w via youtub                                  \n",
       "2   b saw amazon fire hd 8 tablet alexa 8 hd display 16 g amazon 12 hour batteri life vibrant 8 hd display 1 3 ghz quad core processor 1 5 gb ram dolbi audio durabl latest ipad   \n",
       "3   b amazon alexa refus tell tv channel dick clark xe2 x80 x99 rockin new year eve                                                                                                \n",
       "4   b fire hd 10 tablet alexa hand free 10 1 1080p full hd display 32 gb marin blue special offer amazon xe2 x80 xa6                                                               \n",
       "\n",
       "                                                                                                                                                               normalized_tweetz  \n",
       "0  [watch, well, even, name, year, old, alexa, hear, narvaezjorg, channel, mani, year, amazon, use]                                                                               \n",
       "1  [aisha, amazon, new, sharia, compliant, version, alexa, newyearsev, xe, x, x, sure, whini, snowflak, complain, flag, youtu, r, oq, vrm, w, via, youtub]                        \n",
       "2  [amazon, fire, hd, tablet, alexa, hd, display, g, amazon, hour, batteri, life, vibrant, hd, display, ghz, quad, core, processor, gb, ram, dolbi, audio, durabl, latest, ipad]  \n",
       "3  [alexa, refus, tell, tv, channel, dick, clark, xe, x, x, rockin, new, year, eve]                                                                                               \n",
       "4  [hd, tablet, alexa, hand, free, p, full, hd, display, gb, marin, blue, special, offer, amazon, xe, x, xa]                                                                      "
      ]
     },
     "execution_count": 10,
     "metadata": {},
     "output_type": "execute_result"
    }
   ],
   "source": [
    "pd.set_option('display.max_colwidth', -1) # Setting this so we can see the full content of cells\n",
    "tweets['normalized_tweetz'] = tweets.clean_tweet.apply(normalizer)\n",
    "tweets[['clean_tweet','normalized_tweetz']].head()"
   ]
  },
  {
   "cell_type": "code",
   "execution_count": 11,
   "metadata": {},
   "outputs": [
    {
     "data": {
      "text/html": [
       "<div>\n",
       "<style>\n",
       "    .dataframe thead tr:only-child th {\n",
       "        text-align: right;\n",
       "    }\n",
       "\n",
       "    .dataframe thead th {\n",
       "        text-align: left;\n",
       "    }\n",
       "\n",
       "    .dataframe tbody tr th {\n",
       "        vertical-align: top;\n",
       "    }\n",
       "</style>\n",
       "<table border=\"1\" class=\"dataframe\">\n",
       "  <thead>\n",
       "    <tr style=\"text-align: right;\">\n",
       "      <th></th>\n",
       "      <th>grams</th>\n",
       "    </tr>\n",
       "  </thead>\n",
       "  <tbody>\n",
       "    <tr>\n",
       "      <th>0</th>\n",
       "      <td>[watch well, well even, even name, name year, year old, old alexa, alexa hear, hear narvaezjorg, narvaezjorg channel, channel mani, mani year, year amazon, amazon use, watch well even, well even name, even name year, name year old, year old alexa, old alexa hear, alexa hear narvaezjorg, hear narvaezjorg channel, narvaezjorg channel mani, channel mani year, mani year amazon, year amazon use]</td>\n",
       "    </tr>\n",
       "    <tr>\n",
       "      <th>1</th>\n",
       "      <td>[aisha amazon, amazon new, new sharia, sharia compliant, compliant version, version alexa, alexa newyearsev, newyearsev xe, xe x, x x, x sure, sure whini, whini snowflak, snowflak complain, complain flag, flag youtu, youtu r, r oq, oq vrm, vrm w, w via, via youtub, aisha amazon new, amazon new sharia, new sharia compliant, sharia compliant version, compliant version alexa, version alexa newyearsev, alexa newyearsev xe, newyearsev xe x, xe x x, x x sure, x sure whini, sure whini snowflak, whini snowflak complain, snowflak complain flag, complain flag youtu, flag youtu r, youtu r oq, r oq vrm, oq vrm w, vrm w via, w via youtub]</td>\n",
       "    </tr>\n",
       "    <tr>\n",
       "      <th>2</th>\n",
       "      <td>[amazon fire, fire hd, hd tablet, tablet alexa, alexa hd, hd display, display g, g amazon, amazon hour, hour batteri, batteri life, life vibrant, vibrant hd, hd display, display ghz, ghz quad, quad core, core processor, processor gb, gb ram, ram dolbi, dolbi audio, audio durabl, durabl latest, latest ipad, amazon fire hd, fire hd tablet, hd tablet alexa, tablet alexa hd, alexa hd display, hd display g, display g amazon, g amazon hour, amazon hour batteri, hour batteri life, batteri life vibrant, life vibrant hd, vibrant hd display, hd display ghz, display ghz quad, ghz quad core, quad core processor, core processor gb, processor gb ram, gb ram dolbi, ram dolbi audio, dolbi audio durabl, audio durabl latest, durabl latest ipad]</td>\n",
       "    </tr>\n",
       "    <tr>\n",
       "      <th>3</th>\n",
       "      <td>[alexa refus, refus tell, tell tv, tv channel, channel dick, dick clark, clark xe, xe x, x x, x rockin, rockin new, new year, year eve, alexa refus tell, refus tell tv, tell tv channel, tv channel dick, channel dick clark, dick clark xe, clark xe x, xe x x, x x rockin, x rockin new, rockin new year, new year eve]</td>\n",
       "    </tr>\n",
       "    <tr>\n",
       "      <th>4</th>\n",
       "      <td>[hd tablet, tablet alexa, alexa hand, hand free, free p, p full, full hd, hd display, display gb, gb marin, marin blue, blue special, special offer, offer amazon, amazon xe, xe x, x xa, hd tablet alexa, tablet alexa hand, alexa hand free, hand free p, free p full, p full hd, full hd display, hd display gb, display gb marin, gb marin blue, marin blue special, blue special offer, special offer amazon, offer amazon xe, amazon xe x, xe x xa]</td>\n",
       "    </tr>\n",
       "  </tbody>\n",
       "</table>\n",
       "</div>"
      ],
      "text/plain": [
       "                                                                                                                                                                                                                                                                                                                                                                                                                                                                                                                                                                                                                                                                                                                                                              grams\n",
       "0  [watch well, well even, even name, name year, year old, old alexa, alexa hear, hear narvaezjorg, narvaezjorg channel, channel mani, mani year, year amazon, amazon use, watch well even, well even name, even name year, name year old, year old alexa, old alexa hear, alexa hear narvaezjorg, hear narvaezjorg channel, narvaezjorg channel mani, channel mani year, mani year amazon, year amazon use]                                                                                                                                                                                                                                                                                                                                                       \n",
       "1  [aisha amazon, amazon new, new sharia, sharia compliant, compliant version, version alexa, alexa newyearsev, newyearsev xe, xe x, x x, x sure, sure whini, whini snowflak, snowflak complain, complain flag, flag youtu, youtu r, r oq, oq vrm, vrm w, w via, via youtub, aisha amazon new, amazon new sharia, new sharia compliant, sharia compliant version, compliant version alexa, version alexa newyearsev, alexa newyearsev xe, newyearsev xe x, xe x x, x x sure, x sure whini, sure whini snowflak, whini snowflak complain, snowflak complain flag, complain flag youtu, flag youtu r, youtu r oq, r oq vrm, oq vrm w, vrm w via, w via youtub]                                                                                                       \n",
       "2  [amazon fire, fire hd, hd tablet, tablet alexa, alexa hd, hd display, display g, g amazon, amazon hour, hour batteri, batteri life, life vibrant, vibrant hd, hd display, display ghz, ghz quad, quad core, core processor, processor gb, gb ram, ram dolbi, dolbi audio, audio durabl, durabl latest, latest ipad, amazon fire hd, fire hd tablet, hd tablet alexa, tablet alexa hd, alexa hd display, hd display g, display g amazon, g amazon hour, amazon hour batteri, hour batteri life, batteri life vibrant, life vibrant hd, vibrant hd display, hd display ghz, display ghz quad, ghz quad core, quad core processor, core processor gb, processor gb ram, gb ram dolbi, ram dolbi audio, dolbi audio durabl, audio durabl latest, durabl latest ipad]\n",
       "3  [alexa refus, refus tell, tell tv, tv channel, channel dick, dick clark, clark xe, xe x, x x, x rockin, rockin new, new year, year eve, alexa refus tell, refus tell tv, tell tv channel, tv channel dick, channel dick clark, dick clark xe, clark xe x, xe x x, x x rockin, x rockin new, rockin new year, new year eve]                                                                                                                                                                                                                                                                                                                                                                                                                                      \n",
       "4  [hd tablet, tablet alexa, alexa hand, hand free, free p, p full, full hd, hd display, display gb, gb marin, marin blue, blue special, special offer, offer amazon, amazon xe, xe x, x xa, hd tablet alexa, tablet alexa hand, alexa hand free, hand free p, free p full, p full hd, full hd display, hd display gb, display gb marin, gb marin blue, marin blue special, blue special offer, special offer amazon, offer amazon xe, amazon xe x, xe x xa]                                                                                                                                                                                                                                                                                                       "
      ]
     },
     "execution_count": 11,
     "metadata": {},
     "output_type": "execute_result"
    }
   ],
   "source": [
    "from nltk import ngrams\n",
    "def ngrams(input_list):\n",
    "    #onegrams = input_list\n",
    "    bigrams = [' '.join(t) for t in list(zip(input_list, input_list[1:]))]\n",
    "    trigrams = [' '.join(t) for t in list(zip(input_list, input_list[1:], input_list[2:]))]\n",
    "    return bigrams+trigrams\n",
    "tweets['grams'] = tweets.normalized_tweetz.apply(ngrams)\n",
    "tweets[['grams']].head()"
   ]
  },
  {
   "cell_type": "code",
   "execution_count": 12,
   "metadata": {
    "collapsed": true
   },
   "outputs": [],
   "source": [
    "import collections\n",
    "def count_words(input):\n",
    "    cnt = collections.Counter()\n",
    "    for row in input:\n",
    "        for word in row:\n",
    "            cnt[word] += 1\n",
    "    return cnt"
   ]
  },
  {
   "cell_type": "code",
   "execution_count": 14,
   "metadata": {},
   "outputs": [
    {
     "data": {
      "text/plain": [
       "[('xe x', 5653),\n",
       " ('x x', 3298),\n",
       " ('xe x x', 3085),\n",
       " ('x xa', 2472),\n",
       " ('xe x xa', 2460),\n",
       " ('amazon alexa', 2088),\n",
       " ('alexa voic', 629),\n",
       " ('alexa xe', 572),\n",
       " ('alexa xe x', 572),\n",
       " ('amazon echo', 496),\n",
       " ('alexa record', 465),\n",
       " ('wrong person', 465),\n",
       " ('record wrong', 452),\n",
       " ('random person', 395),\n",
       " ('record random', 382),\n",
       " ('record random person', 373),\n",
       " ('app store', 367),\n",
       " ('sent alexa', 366),\n",
       " ('voic record', 363),\n",
       " ('billi bass', 354)]"
      ]
     },
     "execution_count": 14,
     "metadata": {},
     "output_type": "execute_result"
    }
   ],
   "source": [
    "tweets[(tweets.clean_sentiment == 'negative')][['grams']].apply(count_words)['grams'].most_common(20)"
   ]
  },
  {
   "cell_type": "code",
   "execution_count": 15,
   "metadata": {
    "collapsed": true
   },
   "outputs": [],
   "source": [
    "\n",
    "\n",
    "\n",
    "import collections\n",
    "def count_words(input):\n",
    "    cnt = collections.Counter()\n",
    "    for row in input:\n",
    "        for word in row:\n",
    "            cnt[word] += 1\n",
    "    return cnt"
   ]
  },
  {
   "cell_type": "code",
   "execution_count": 16,
   "metadata": {},
   "outputs": [
    {
     "data": {
      "text/plain": [
       "[('xe x', 15880),\n",
       " ('x xa', 8562),\n",
       " ('xe x xa', 8486),\n",
       " ('x x', 7743),\n",
       " ('amazon alexa', 7496),\n",
       " ('xe x x', 7314),\n",
       " ('amazon echo', 2308),\n",
       " ('hand free', 1547),\n",
       " ('smart speaker', 1525),\n",
       " ('alexa voic', 1362),\n",
       " ('sono one', 1353),\n",
       " ('one amazon', 1293),\n",
       " ('one amazon alexa', 1266),\n",
       " ('new sono', 1263),\n",
       " ('new sono one', 1259),\n",
       " ('sono one amazon', 1254),\n",
       " ('fire tv', 1233),\n",
       " ('tablet alexa', 1230),\n",
       " ('display gb', 1219),\n",
       " ('amazon xe', 1203)]"
      ]
     },
     "execution_count": 16,
     "metadata": {},
     "output_type": "execute_result"
    }
   ],
   "source": [
    "tweets[(tweets.clean_sentiment == 'positive')][['grams']].apply(count_words)['grams'].most_common(20)"
   ]
  },
  {
   "cell_type": "code",
   "execution_count": 17,
   "metadata": {
    "collapsed": true
   },
   "outputs": [],
   "source": [
    "import numpy as np\n",
    "from scipy.sparse import hstack\n",
    "from sklearn.feature_extraction.text import CountVectorizer\n",
    "count_vectorizer = CountVectorizer(ngram_range=(1,2))"
   ]
  },
  {
   "cell_type": "code",
   "execution_count": 19,
   "metadata": {},
   "outputs": [],
   "source": [
    "vectorized_data = count_vectorizer.fit_transform(tweets.clean_tweet)\n",
    "indexed_data = hstack((np.array(range(0,vectorized_data.shape[0]))[:,None], vectorized_data))"
   ]
  },
  {
   "cell_type": "code",
   "execution_count": 21,
   "metadata": {},
   "outputs": [],
   "source": [
    "def sentiment2target(sentiment):\n",
    "    return {\n",
    "        'negative': 0,\n",
    "        'neutral': 1,\n",
    "        'positive' : 2\n",
    "    }[sentiment]\n",
    "targets = tweets.clean_sentiment.apply(sentiment2target)"
   ]
  },
  {
   "cell_type": "code",
   "execution_count": 22,
   "metadata": {
    "collapsed": true
   },
   "outputs": [],
   "source": [
    "from sklearn.model_selection import train_test_split\n",
    "data_train, data_test, targets_train, targets_test = train_test_split(indexed_data, targets, test_size=0.4, random_state=0)\n",
    "data_train_index = data_train[:,0]\n",
    "data_train = data_train[:,1:]\n",
    "data_test_index = data_test[:,0]\n",
    "data_test = data_test[:,1:]\n"
   ]
  },
  {
   "cell_type": "code",
   "execution_count": null,
   "metadata": {
    "collapsed": true
   },
   "outputs": [],
   "source": [
    "from sklearn import svm\n",
    "from sklearn.multiclass import OneVsRestClassifier\n",
    "clf = OneVsRestClassifier(svm.SVC(gamma=0.01, C=100., probability=True, class_weight='balanced', kernel='linear'))\n",
    "clf_output = clf.fit(data_train, targets_train)"
   ]
  },
  {
   "cell_type": "code",
   "execution_count": null,
   "metadata": {},
   "outputs": [],
   "source": [
    "clf.score(data_test, targets_test)"
   ]
  },
  {
   "cell_type": "code",
   "execution_count": null,
   "metadata": {
    "collapsed": true
   },
   "outputs": [],
   "source": []
  },
  {
   "cell_type": "code",
   "execution_count": null,
   "metadata": {
    "collapsed": true
   },
   "outputs": [],
   "source": [
    "sentences = count_vectorizer.transform([\n",
    "    \"I hate optus internet\",\n",
    "    \"internet is so slow\",\n",
    "    \"fix the bloody internet\",\"\"\n",
    "])\n",
    "clf.predict_proba(sentences)"
   ]
  },
  {
   "cell_type": "code",
   "execution_count": null,
   "metadata": {
    "collapsed": true
   },
   "outputs": [],
   "source": []
  },
  {
   "cell_type": "code",
   "execution_count": null,
   "metadata": {
    "collapsed": true
   },
   "outputs": [],
   "source": []
  }
 ],
 "metadata": {
  "kernelspec": {
   "display_name": "Python 3",
   "language": "python",
   "name": "python3"
  },
  "language_info": {
   "codemirror_mode": {
    "name": "ipython",
    "version": 3
   },
   "file_extension": ".py",
   "mimetype": "text/x-python",
   "name": "python",
   "nbconvert_exporter": "python",
   "pygments_lexer": "ipython3",
   "version": "3.6.1"
  }
 },
 "nbformat": 4,
 "nbformat_minor": 2
}
