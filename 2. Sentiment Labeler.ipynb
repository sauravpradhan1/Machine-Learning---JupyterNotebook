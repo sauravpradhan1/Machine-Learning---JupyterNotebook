{
 "cells": [
  {
   "cell_type": "code",
   "execution_count": 1,
   "metadata": {
    "collapsed": true
   },
   "outputs": [],
   "source": [
    "import re\n",
    "import nltk\n",
    "import csv\n",
    "from collections import defaultdict\n",
    "from textblob import TextBlob\n",
    "import os.path\n",
    "from nltk import word_tokenize\n",
    "from nltk.corpus import stopwords\n",
    "from nltk.stem.porter import PorterStemmer\n",
    "\n",
    "\n",
    "# nltk.download('punkt')\n",
    "columns = defaultdict(list)"
   ]
  },
  {
   "cell_type": "code",
   "execution_count": null,
   "metadata": {
    "collapsed": true
   },
   "outputs": [],
   "source": [
    "def readCSV(fileName):\n",
    "    with open(fileName) as f:\n",
    "        reader = csv.DictReader(f) # read rows into a dictionary format\n",
    "        for row in reader: # read a row as {column1: value1, column2: value2,...}\n",
    "            for (k,v) in row.items(): # go over each column name and value \n",
    "                columns[k].append(v) # append the value into the appropriate list\n",
    "                                    # based on column name k\n",
    "\n",
    "\n",
    "    data = columns[\"Tweet\"]\n",
    "    for i in data:\n",
    "        writeToCSV(\"demo.csv\", str(i))\n",
    "\n",
    "def writeToCSV(fileName, text):\n",
    "       \n",
    "    fileExists = os.path.isfile(fileName)\n",
    "    counter = 1\n",
    "    with open(fileName, mode='a', newline='') as twitterData1:\n",
    "                fieldnames = [\"tweet\", \"clean_tweet\",\"tweet_sentiments\", \"clean_sentiment\", \"sentiment_numeral\"]\n",
    "                twitterWriter = csv.DictWriter(twitterData1, delimiter=',', lineterminator='\\n', fieldnames=fieldnames)\n",
    "\n",
    "                if not fileExists:\n",
    "                         if counter == 1:\n",
    "                                 twitterWriter.writeheader()\n",
    "                                 counter = counter + 1\n",
    "\n",
    "                if (getTweetSentiment(pipeline(text))== \"positive\"):\n",
    "                    data = 2\n",
    "                elif (getTweetSentiment(pipeline(text)) == \"neutral\"):\n",
    "                    data = 1\n",
    "                elif (getTweetSentiment(pipeline(text)) == \"negative\"):\n",
    "                    data = 0\n",
    "                twitterWriter = csv.writer(twitterData1, delimiter=',')\n",
    "                twitterWriter.writerow([text, pipeline(text), getTweetSentiment(text), getTweetSentiment(pipeline(text)), data])\n"
   ]
  },
  {
   "cell_type": "code",
   "execution_count": null,
   "metadata": {
    "collapsed": true
   },
   "outputs": [],
   "source": [
    "def tokenization(text):\n",
    "    \n",
    "    words = word_tokenize(text)\n",
    "    return words\n",
    "\n",
    "def stopWord(text):\n",
    "    \n",
    "    stopWords = set(stopwords.words(\"english\"))\n",
    "    filteredWords = [word for word in text if not word in stopWords]\n",
    "    # print(filteredWords)\n",
    "    # print(\"Clean words \",len(tokenization(text)))\n",
    "    # print(\"Filtered Words \", len(filteredWords))\n",
    "    return filteredWords\n",
    "\n",
    "def removeUrl(text):\n",
    "    result = re.sub(r\"pic.twitter.com\\S+\", \"\", text)\n",
    "    result = re.sub(r\"https:\\S+\",\"\",result )\n",
    "    result = re.sub(r\"http:\\S+\",\"\",result )\n",
    "    return result\n",
    "\n",
    "def removeNonWord(text):\n",
    "        #\\W removes all the non word and displays the result\n",
    "        result = (re.sub(r\"\\W\",\" \", text, flags = re.I))\n",
    "        return result\n",
    "\n",
    "def stemmer(text):\n",
    "    stemmed = ''\n",
    "    stemmer = PorterStemmer()\n",
    "    for word in text:\n",
    "        stemmed = stemmed + \" \" + stemmer.stem(word)\n",
    "\n",
    "    return (stemmed)  \n",
    "\n",
    "def pipeline(text):\n",
    "    noUrl = removeUrl(text.lower())\n",
    "    removePunct = removeNonWord(noUrl)\n",
    "    token=tokenization(removePunct) \n",
    "    removalStopWord=stopWord(token)\n",
    "    stemmedText = stemmer(removalStopWord)\n",
    "    return stemmedText\n",
    "\n",
    "\n",
    "def getTweetSentiment(tweet): \n",
    "        ''' \n",
    "        Utility function to classify sentiment of passed tweet \n",
    "        using textblob's sentiment method \n",
    "        '''\n",
    "        # create TextBlob object of passed tweet text \n",
    "        analysis = TextBlob(tweet) \n",
    "        # set sentiment \n",
    "        if analysis.sentiment.polarity > 0: \n",
    "            return 'positive'\n",
    "        elif analysis.sentiment.polarity == 0: \n",
    "            return 'neutral'\n",
    "        else: \n",
    "            return 'negative'\n"
   ]
  },
  {
   "cell_type": "code",
   "execution_count": null,
   "metadata": {
    "collapsed": true
   },
   "outputs": [],
   "source": [
    "readCSV('alexaData.csv')"
   ]
  }
 ],
 "metadata": {
  "kernelspec": {
   "display_name": "Python 3",
   "language": "python",
   "name": "python3"
  },
  "language_info": {
   "codemirror_mode": {
    "name": "ipython",
    "version": 3
   },
   "file_extension": ".py",
   "mimetype": "text/x-python",
   "name": "python",
   "nbconvert_exporter": "python",
   "pygments_lexer": "ipython3",
   "version": "3.6.1"
  }
 },
 "nbformat": 4,
 "nbformat_minor": 2
}
