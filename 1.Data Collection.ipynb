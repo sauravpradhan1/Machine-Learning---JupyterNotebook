{
 "cells": [
  {
   "cell_type": "code",
   "execution_count": 1,
   "metadata": {
    "collapsed": true
   },
   "outputs": [],
   "source": [
    "import GetOldTweets3 as got\n",
    "import csv\n",
    "import time\n",
    "import os.path\n",
    "import _thread\n",
    "import time\n"
   ]
  },
  {
   "cell_type": "code",
   "execution_count": 2,
   "metadata": {
    "collapsed": true
   },
   "outputs": [],
   "source": [
    "maxTweets = 1000000"
   ]
  },
  {
   "cell_type": "code",
   "execution_count": 3,
   "metadata": {
    "collapsed": true
   },
   "outputs": [],
   "source": [
    "def writeToCSV(userName, fileName):\n",
    "    counter = 0\n",
    "    csvFileName = fileName + \".csv\"\n",
    "    fileExists = os.path.isfile(csvFileName)\n",
    "    tweetCriteria = got.manager.TweetCriteria().setQuerySearch(userName)\\\n",
    "        .setSince(\"2010-09-10\")\\\n",
    "        .setUntil(\"2019-01-01\")\\\n",
    "        .setTopTweets(False)\\\n",
    "        .setLang('en')\\\n",
    "        .setMaxTweets(maxTweets)\n",
    "\n",
    "    tweets = got.manager.TweetManager.getTweets(tweetCriteria)\n",
    "    for tweet in tweets:\n",
    "        \n",
    "\n",
    "        #with open('twitterData1.csv', mode='a', newline='') as twitterData1:\n",
    "        with open(csvFileName, mode='a', newline='') as twitterData1:\n",
    "            fieldnames = ['Twitter ID', 'Tweet', 'Permalink',\n",
    "                        'Retweets', 'Favourites', 'Mentions', 'Hashtags', 'Geo']\n",
    "            twitterWriter = csv.DictWriter(\n",
    "                twitterData1, delimiter=',', lineterminator='\\n', fieldnames=fieldnames)\n",
    "\n",
    "            if not fileExists:\n",
    "                    if counter == 0:\n",
    "                            twitterWriter.writeheader()\n",
    "                            counter = counter + 1\n",
    "\n",
    "            twitterWriter = csv.writer(twitterData1, delimiter=',')\n",
    "            twitterWriter.writerow([tweet.id.encode(\"utf-8\"), tweet.text.encode(\"utf-8\"), tweet.permalink.encode(\"utf-8\"), tweet.retweets,\n",
    "                                    tweet.favorites, tweet.mentions.encode(\"utf-8\"), tweet.hashtags.encode(\"utf-8\"), tweet.geo.encode(\"utf-8\")])"
   ]
  },
  {
   "cell_type": "code",
   "execution_count": null,
   "metadata": {
    "collapsed": true
   },
   "outputs": [],
   "source": [
    "writeToCSV(\"Amazon Alexa\", \"alexaData\")"
   ]
  }
 ],
 "metadata": {
  "kernelspec": {
   "display_name": "Python 3",
   "language": "python",
   "name": "python3"
  },
  "language_info": {
   "codemirror_mode": {
    "name": "ipython",
    "version": 3
   },
   "file_extension": ".py",
   "mimetype": "text/x-python",
   "name": "python",
   "nbconvert_exporter": "python",
   "pygments_lexer": "ipython3",
   "version": "3.6.1"
  }
 },
 "nbformat": 4,
 "nbformat_minor": 2
}
